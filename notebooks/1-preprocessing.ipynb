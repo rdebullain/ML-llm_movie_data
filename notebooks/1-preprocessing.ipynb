{
 "cells": [
  {
   "cell_type": "markdown",
   "metadata": {},
   "source": [
    "#### Import Libraries"
   ]
  },
  {
   "cell_type": "code",
   "execution_count": 1,
   "metadata": {},
   "outputs": [
    {
     "name": "stderr",
     "output_type": "stream",
     "text": [
      "[nltk_data] Downloading package punkt to\n",
      "[nltk_data]     C:\\Users\\16476\\AppData\\Roaming\\nltk_data...\n",
      "[nltk_data]   Package punkt is already up-to-date!\n",
      "[nltk_data] Downloading package stopwords to\n",
      "[nltk_data]     C:\\Users\\16476\\AppData\\Roaming\\nltk_data...\n",
      "[nltk_data]   Package stopwords is already up-to-date!\n",
      "[nltk_data] Downloading package wordnet to\n",
      "[nltk_data]     C:\\Users\\16476\\AppData\\Roaming\\nltk_data...\n",
      "[nltk_data]   Package wordnet is already up-to-date!\n"
     ]
    },
    {
     "data": {
      "text/plain": [
       "True"
      ]
     },
     "execution_count": 1,
     "metadata": {},
     "output_type": "execute_result"
    }
   ],
   "source": [
    "import os\n",
    "import pandas as pd\n",
    "import numpy as np\n",
    "from datasets import load_dataset\n",
    "import re\n",
    "import nltk\n",
    "from nltk.corpus import stopwords\n",
    "from nltk.tokenize import word_tokenize\n",
    "from nltk.stem import WordNetLemmatizer\n",
    "nltk.download('punkt')\n",
    "nltk.download('stopwords')\n",
    "nltk.download('wordnet')"
   ]
  },
  {
   "cell_type": "markdown",
   "metadata": {},
   "source": [
    "#### Load Dataset"
   ]
  },
  {
   "cell_type": "code",
   "execution_count": 2,
   "metadata": {},
   "outputs": [],
   "source": [
    "# Retrieve the access token from the environment variable\n",
    "hf_token = os.getenv(\"llm_project_token\")\n",
    "\n",
    "# Load the dataset using the access token\n",
    "ds = load_dataset(\"stanfordnlp/imdb\", token=hf_token)\n",
    "\n",
    "# Convert to pandas DataFrame for easier manipulation\n",
    "train_df = pd.DataFrame(ds['train'])\n",
    "test_df = pd.DataFrame(ds['test'])\n",
    "unsupervised_df = pd.DataFrame(ds['unsupervised'])"
   ]
  },
  {
   "cell_type": "markdown",
   "metadata": {},
   "source": [
    "#### Handle Missing Values"
   ]
  },
  {
   "cell_type": "code",
   "execution_count": 3,
   "metadata": {},
   "outputs": [
    {
     "name": "stdout",
     "output_type": "stream",
     "text": [
      "Missing values in train set: text     0\n",
      "label    0\n",
      "dtype: int64\n",
      "Missing values in test set: text     0\n",
      "label    0\n",
      "dtype: int64\n",
      "Missing values in unsupervised set: text     0\n",
      "label    0\n",
      "dtype: int64\n"
     ]
    }
   ],
   "source": [
    "# Check for missing values\n",
    "print(\"Missing values in train set:\", train_df.isnull().sum())\n",
    "print(\"Missing values in test set:\", test_df.isnull().sum())\n",
    "print(\"Missing values in unsupervised set:\", unsupervised_df.isnull().sum())\n",
    "\n",
    "# Drop duplicates if any\n",
    "train_df.drop_duplicates(inplace=True)\n",
    "test_df.drop_duplicates(inplace=True)\n",
    "unsupervised_df.drop_duplicates(inplace=True)"
   ]
  },
  {
   "cell_type": "markdown",
   "metadata": {},
   "source": [
    "#### Perform Text Cleaning"
   ]
  },
  {
   "cell_type": "code",
   "execution_count": 4,
   "metadata": {},
   "outputs": [],
   "source": [
    "# Initialize stopwords and lemmatizer\n",
    "stop_words = set(stopwords.words('english'))\n",
    "lemmatizer = WordNetLemmatizer()\n",
    "\n",
    "def clean_text(text):\n",
    "    # Remove HTML tags\n",
    "    text = re.sub(r'<.*?>', '', text)\n",
    "    # Remove special characters and digits\n",
    "    text = re.sub(r'[^a-zA-Z\\s]', '', text)\n",
    "    # Tokenize\n",
    "    words = word_tokenize(text)\n",
    "    # Remove stopwords and lemmatize\n",
    "    words = [lemmatizer.lemmatize(word) for word in words if word.lower() not in stop_words]\n",
    "    return ' '.join(words)\n",
    "\n",
    "# Apply text cleaning\n",
    "train_df['clean_text'] = train_df['text'].apply(clean_text)\n",
    "test_df['clean_text'] = test_df['text'].apply(clean_text)\n",
    "unsupervised_df['clean_text'] = unsupervised_df['text'].apply(clean_text)"
   ]
  },
  {
   "cell_type": "markdown",
   "metadata": {},
   "source": [
    "#### Save and Compress CSV"
   ]
  },
  {
   "cell_type": "code",
   "execution_count": 6,
   "metadata": {},
   "outputs": [],
   "source": [
    "import gzip\n",
    "import shutil"
   ]
  },
  {
   "cell_type": "code",
   "execution_count": 7,
   "metadata": {},
   "outputs": [],
   "source": [
    "def save_and_compress(df, filename):\n",
    "    temp_csv = filename + '.csv'\n",
    "    compressed_csv = filename + '.csv.gz'\n",
    "    \n",
    "    # Save the dataframe to a CSV file\n",
    "    df.to_csv(temp_csv, index=False)\n",
    "    \n",
    "    # Compress the CSV file\n",
    "    with open(temp_csv, 'rb') as f_in, gzip.open(compressed_csv, 'wb') as f_out:\n",
    "        shutil.copyfileobj(f_in, f_out)\n",
    "    \n",
    "    # Remove the temporary CSV file\n",
    "    os.remove(temp_csv)\n",
    "\n",
    "# Save and compress the train dataset\n",
    "save_and_compress(train_df, 'cleaned_train')\n",
    "\n",
    "# Save and compress the test dataset\n",
    "save_and_compress(test_df, 'cleaned_test')\n",
    "\n",
    "# Save and compress the unsupervised dataset\n",
    "save_and_compress(unsupervised_df, 'cleaned_unsupervised')"
   ]
  }
 ],
 "metadata": {
  "kernelspec": {
   "display_name": "base",
   "language": "python",
   "name": "python3"
  },
  "language_info": {
   "codemirror_mode": {
    "name": "ipython",
    "version": 3
   },
   "file_extension": ".py",
   "mimetype": "text/x-python",
   "name": "python",
   "nbconvert_exporter": "python",
   "pygments_lexer": "ipython3",
   "version": "3.11.9"
  },
  "orig_nbformat": 4
 },
 "nbformat": 4,
 "nbformat_minor": 2
}
